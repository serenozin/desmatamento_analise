{
  "nbformat": 4,
  "nbformat_minor": 0,
  "metadata": {
    "colab": {
      "name": "tratamento_dados_desmatamento.ipynb",
      "provenance": [],
      "collapsed_sections": [
        "_L5RmmYaX5Ic"
      ],
      "mount_file_id": "1Gi5JvH785Al3iFn7UHrC9WKpWNKYgfZe",
      "authorship_tag": "ABX9TyM0TPFKAIvDAaqF+ckgSV3P",
      "include_colab_link": true
    },
    "kernelspec": {
      "name": "python3",
      "display_name": "Python 3"
    },
    "language_info": {
      "name": "python"
    }
  },
  "cells": [
    {
      "cell_type": "markdown",
      "metadata": {
        "id": "view-in-github",
        "colab_type": "text"
      },
      "source": [
        "<a href=\"https://colab.research.google.com/github/serenozin/desmatamento_analise/blob/main/tratamento_dados_desmatamento.ipynb\" target=\"_parent\"><img src=\"https://colab.research.google.com/assets/colab-badge.svg\" alt=\"Open In Colab\"/></a>"
      ]
    },
    {
      "cell_type": "markdown",
      "metadata": {
        "id": "_L5RmmYaX5Ic"
      },
      "source": [
        "## Libs installation and import"
      ]
    },
    {
      "cell_type": "code",
      "metadata": {
        "id": "RdRBS09y4wWe",
        "colab": {
          "base_uri": "https://localhost:8080/",
          "height": 1000
        },
        "outputId": "53a94325-0019-40dc-c2e6-91e1f84cf2a3"
      },
      "source": [
        "!pip install basedosdados"
      ],
      "execution_count": null,
      "outputs": [
        {
          "output_type": "stream",
          "text": [
            "Collecting basedosdados\n",
            "  Downloading https://files.pythonhosted.org/packages/ec/ed/d1b915fb9cce71063047beeaf9c33ba5453daac8f3d69773e881bd12a1ea/basedosdados-1.5.4-py3-none-any.whl\n",
            "Collecting pandas-gbq==0.13.2\n",
            "  Downloading https://files.pythonhosted.org/packages/53/f3/3100eb9332c62c5e5ac486d5421965da23a0b92012825bfbb372b7f8d508/pandas_gbq-0.13.2-py3-none-any.whl\n",
            "Collecting tomlkit==0.7.0\n",
            "  Downloading https://files.pythonhosted.org/packages/bc/01/a0ee34fe37dd54f795e8f8a820af57c9a94d7358276acf6cdc21ae8d9533/tomlkit-0.7.0-py2.py3-none-any.whl\n",
            "Collecting tqdm==4.50.2\n",
            "\u001b[?25l  Downloading https://files.pythonhosted.org/packages/bd/cf/f91813073e4135c1183cadf968256764a6fe4e35c351d596d527c0540461/tqdm-4.50.2-py2.py3-none-any.whl (70kB)\n",
            "\u001b[K     |████████████████████████████████| 71kB 5.7MB/s \n",
            "\u001b[?25hCollecting google-cloud-bigquery==1.28.0\n",
            "\u001b[?25l  Downloading https://files.pythonhosted.org/packages/49/18/6aeca7e64efb37f4d4fceaed0cbb7cd861416588240b76c4796fe2e3393c/google_cloud_bigquery-1.28.0-py2.py3-none-any.whl (187kB)\n",
            "\u001b[K     |████████████████████████████████| 194kB 35.4MB/s \n",
            "\u001b[?25hCollecting Jinja2==2.11.2\n",
            "\u001b[?25l  Downloading https://files.pythonhosted.org/packages/30/9e/f663a2aa66a09d838042ae1a2c5659828bb9b41ea3a6efa20a20fd92b121/Jinja2-2.11.2-py2.py3-none-any.whl (125kB)\n",
            "\u001b[K     |████████████████████████████████| 133kB 40.4MB/s \n",
            "\u001b[?25hRequirement already satisfied: click==7.1.2 in /usr/local/lib/python3.7/dist-packages (from basedosdados) (7.1.2)\n",
            "Collecting google-cloud-storage==1.31.2\n",
            "\u001b[?25l  Downloading https://files.pythonhosted.org/packages/c3/cc/826ab2fef7c468bae89d199231863cfc69f9b2431f3814367bee764c11ce/google_cloud_storage-1.31.2-py2.py3-none-any.whl (88kB)\n",
            "\u001b[K     |████████████████████████████████| 92kB 9.8MB/s \n",
            "\u001b[?25hCollecting pandas==1.2.4\n",
            "\u001b[?25l  Downloading https://files.pythonhosted.org/packages/51/51/48f3fc47c4e2144da2806dfb6629c4dd1fa3d5a143f9652b141e979a8ca9/pandas-1.2.4-cp37-cp37m-manylinux1_x86_64.whl (9.9MB)\n",
            "\u001b[K     |████████████████████████████████| 9.9MB 37.5MB/s \n",
            "\u001b[?25hCollecting pyaml==20.4.0\n",
            "  Downloading https://files.pythonhosted.org/packages/15/c4/1310a054d33abc318426a956e7d6df0df76a6ddfa9c66f6310274fb75d42/pyaml-20.4.0-py2.py3-none-any.whl\n",
            "Collecting ruamel.yaml==0.17.4\n",
            "\u001b[?25l  Downloading https://files.pythonhosted.org/packages/29/4e/c3105bbbbc662f6a671a505f00ec771e93b5254f09fbb06002af9087071a/ruamel.yaml-0.17.4-py3-none-any.whl (101kB)\n",
            "\u001b[K     |████████████████████████████████| 102kB 11.9MB/s \n",
            "\u001b[?25hRequirement already satisfied: google-cloud-bigquery-storage==1.1.0 in /usr/local/lib/python3.7/dist-packages (from basedosdados) (1.1.0)\n",
            "Requirement already satisfied: setuptools in /usr/local/lib/python3.7/dist-packages (from pandas-gbq==0.13.2->basedosdados) (57.0.0)\n",
            "Requirement already satisfied: google-auth in /usr/local/lib/python3.7/dist-packages (from pandas-gbq==0.13.2->basedosdados) (1.31.0)\n",
            "Requirement already satisfied: google-auth-oauthlib in /usr/local/lib/python3.7/dist-packages (from pandas-gbq==0.13.2->basedosdados) (0.4.4)\n",
            "Requirement already satisfied: pydata-google-auth in /usr/local/lib/python3.7/dist-packages (from pandas-gbq==0.13.2->basedosdados) (1.2.0)\n",
            "Requirement already satisfied: six<2.0.0dev,>=1.13.0 in /usr/local/lib/python3.7/dist-packages (from google-cloud-bigquery==1.28.0->basedosdados) (1.15.0)\n",
            "Collecting google-cloud-core<2.0dev,>=1.4.1\n",
            "  Downloading https://files.pythonhosted.org/packages/88/a7/b74266a6fd888d91a6f517c574c17425731181fe44e2df1e414d4b77fbe8/google_cloud_core-1.7.1-py2.py3-none-any.whl\n",
            "Collecting google-resumable-media<2.0dev,>=0.6.0\n",
            "\u001b[?25l  Downloading https://files.pythonhosted.org/packages/11/96/4360dc70bef5559b3faf3deeda97aae7d10ff7660d41fd233eb792e7d09f/google_resumable_media-1.3.1-py2.py3-none-any.whl (75kB)\n",
            "\u001b[K     |████████████████████████████████| 81kB 7.9MB/s \n",
            "\u001b[?25hRequirement already satisfied: google-api-core<2.0dev,>=1.21.0 in /usr/local/lib/python3.7/dist-packages (from google-cloud-bigquery==1.28.0->basedosdados) (1.26.3)\n",
            "Requirement already satisfied: MarkupSafe>=0.23 in /usr/local/lib/python3.7/dist-packages (from Jinja2==2.11.2->basedosdados) (2.0.1)\n",
            "Requirement already satisfied: requests<3.0.0dev,>=2.18.0 in /usr/local/lib/python3.7/dist-packages (from google-cloud-storage==1.31.2->basedosdados) (2.23.0)\n",
            "Requirement already satisfied: python-dateutil>=2.7.3 in /usr/local/lib/python3.7/dist-packages (from pandas==1.2.4->basedosdados) (2.8.1)\n",
            "Requirement already satisfied: pytz>=2017.3 in /usr/local/lib/python3.7/dist-packages (from pandas==1.2.4->basedosdados) (2018.9)\n",
            "Requirement already satisfied: numpy>=1.16.5 in /usr/local/lib/python3.7/dist-packages (from pandas==1.2.4->basedosdados) (1.19.5)\n",
            "Requirement already satisfied: PyYAML in /usr/local/lib/python3.7/dist-packages (from pyaml==20.4.0->basedosdados) (3.13)\n",
            "Collecting ruamel.yaml.clib>=0.1.2; platform_python_implementation == \"CPython\" and python_version < \"3.10\"\n",
            "\u001b[?25l  Downloading https://files.pythonhosted.org/packages/22/8e/4d77d58d398bcf2d608d8e953fa739f975fbf2c882f5150ee41f544d638b/ruamel.yaml.clib-0.2.4-cp37-cp37m-manylinux1_x86_64.whl (546kB)\n",
            "\u001b[K     |████████████████████████████████| 552kB 37.2MB/s \n",
            "\u001b[?25hRequirement already satisfied: rsa<5,>=3.1.4; python_version >= \"3.6\" in /usr/local/lib/python3.7/dist-packages (from google-auth->pandas-gbq==0.13.2->basedosdados) (4.7.2)\n",
            "Requirement already satisfied: cachetools<5.0,>=2.0.0 in /usr/local/lib/python3.7/dist-packages (from google-auth->pandas-gbq==0.13.2->basedosdados) (4.2.2)\n",
            "Requirement already satisfied: pyasn1-modules>=0.2.1 in /usr/local/lib/python3.7/dist-packages (from google-auth->pandas-gbq==0.13.2->basedosdados) (0.2.8)\n",
            "Requirement already satisfied: requests-oauthlib>=0.7.0 in /usr/local/lib/python3.7/dist-packages (from google-auth-oauthlib->pandas-gbq==0.13.2->basedosdados) (1.3.0)\n",
            "Collecting google-crc32c<2.0dev,>=1.0; python_version >= \"3.5\"\n",
            "  Downloading https://files.pythonhosted.org/packages/fc/ae/b6efa1019e18c6c791f0f5cd93b2ff40f8f06696dbf04db39ec0f5591b1e/google_crc32c-1.1.2-cp37-cp37m-manylinux2014_x86_64.whl\n",
            "Requirement already satisfied: googleapis-common-protos<2.0dev,>=1.6.0 in /usr/local/lib/python3.7/dist-packages (from google-api-core<2.0dev,>=1.21.0->google-cloud-bigquery==1.28.0->basedosdados) (1.53.0)\n",
            "Requirement already satisfied: protobuf>=3.12.0 in /usr/local/lib/python3.7/dist-packages (from google-api-core<2.0dev,>=1.21.0->google-cloud-bigquery==1.28.0->basedosdados) (3.12.4)\n",
            "Requirement already satisfied: packaging>=14.3 in /usr/local/lib/python3.7/dist-packages (from google-api-core<2.0dev,>=1.21.0->google-cloud-bigquery==1.28.0->basedosdados) (20.9)\n",
            "Requirement already satisfied: chardet<4,>=3.0.2 in /usr/local/lib/python3.7/dist-packages (from requests<3.0.0dev,>=2.18.0->google-cloud-storage==1.31.2->basedosdados) (3.0.4)\n",
            "Requirement already satisfied: idna<3,>=2.5 in /usr/local/lib/python3.7/dist-packages (from requests<3.0.0dev,>=2.18.0->google-cloud-storage==1.31.2->basedosdados) (2.10)\n",
            "Requirement already satisfied: certifi>=2017.4.17 in /usr/local/lib/python3.7/dist-packages (from requests<3.0.0dev,>=2.18.0->google-cloud-storage==1.31.2->basedosdados) (2021.5.30)\n",
            "Requirement already satisfied: urllib3!=1.25.0,!=1.25.1,<1.26,>=1.21.1 in /usr/local/lib/python3.7/dist-packages (from requests<3.0.0dev,>=2.18.0->google-cloud-storage==1.31.2->basedosdados) (1.24.3)\n",
            "Requirement already satisfied: pyasn1>=0.1.3 in /usr/local/lib/python3.7/dist-packages (from rsa<5,>=3.1.4; python_version >= \"3.6\"->google-auth->pandas-gbq==0.13.2->basedosdados) (0.4.8)\n",
            "Requirement already satisfied: oauthlib>=3.0.0 in /usr/local/lib/python3.7/dist-packages (from requests-oauthlib>=0.7.0->google-auth-oauthlib->pandas-gbq==0.13.2->basedosdados) (3.1.1)\n",
            "Requirement already satisfied: cffi>=1.0.0 in /usr/local/lib/python3.7/dist-packages (from google-crc32c<2.0dev,>=1.0; python_version >= \"3.5\"->google-resumable-media<2.0dev,>=0.6.0->google-cloud-bigquery==1.28.0->basedosdados) (1.14.5)\n",
            "Requirement already satisfied: pyparsing>=2.0.2 in /usr/local/lib/python3.7/dist-packages (from packaging>=14.3->google-api-core<2.0dev,>=1.21.0->google-cloud-bigquery==1.28.0->basedosdados) (2.4.7)\n",
            "Requirement already satisfied: pycparser in /usr/local/lib/python3.7/dist-packages (from cffi>=1.0.0->google-crc32c<2.0dev,>=1.0; python_version >= \"3.5\"->google-resumable-media<2.0dev,>=0.6.0->google-cloud-bigquery==1.28.0->basedosdados) (2.20)\n",
            "\u001b[31mERROR: google-colab 1.0.0 has requirement pandas~=1.1.0; python_version >= \"3.0\", but you'll have pandas 1.2.4 which is incompatible.\u001b[0m\n",
            "\u001b[31mERROR: datascience 0.10.6 has requirement folium==0.2.1, but you'll have folium 0.8.3 which is incompatible.\u001b[0m\n",
            "Installing collected packages: google-cloud-core, google-crc32c, google-resumable-media, google-cloud-bigquery, pandas, pandas-gbq, tomlkit, tqdm, Jinja2, google-cloud-storage, pyaml, ruamel.yaml.clib, ruamel.yaml, basedosdados\n",
            "  Found existing installation: google-cloud-core 1.0.3\n",
            "    Uninstalling google-cloud-core-1.0.3:\n",
            "      Successfully uninstalled google-cloud-core-1.0.3\n",
            "  Found existing installation: google-resumable-media 0.4.1\n",
            "    Uninstalling google-resumable-media-0.4.1:\n",
            "      Successfully uninstalled google-resumable-media-0.4.1\n",
            "  Found existing installation: google-cloud-bigquery 1.21.0\n",
            "    Uninstalling google-cloud-bigquery-1.21.0:\n",
            "      Successfully uninstalled google-cloud-bigquery-1.21.0\n",
            "  Found existing installation: pandas 1.1.5\n",
            "    Uninstalling pandas-1.1.5:\n",
            "      Successfully uninstalled pandas-1.1.5\n",
            "  Found existing installation: pandas-gbq 0.13.3\n",
            "    Uninstalling pandas-gbq-0.13.3:\n",
            "      Successfully uninstalled pandas-gbq-0.13.3\n",
            "  Found existing installation: tqdm 4.41.1\n",
            "    Uninstalling tqdm-4.41.1:\n",
            "      Successfully uninstalled tqdm-4.41.1\n",
            "  Found existing installation: Jinja2 2.11.3\n",
            "    Uninstalling Jinja2-2.11.3:\n",
            "      Successfully uninstalled Jinja2-2.11.3\n",
            "  Found existing installation: google-cloud-storage 1.18.1\n",
            "    Uninstalling google-cloud-storage-1.18.1:\n",
            "      Successfully uninstalled google-cloud-storage-1.18.1\n",
            "Successfully installed Jinja2-2.11.2 basedosdados-1.5.4 google-cloud-bigquery-1.28.0 google-cloud-core-1.7.1 google-cloud-storage-1.31.2 google-crc32c-1.1.2 google-resumable-media-1.3.1 pandas-1.2.4 pandas-gbq-0.13.2 pyaml-20.4.0 ruamel.yaml-0.17.4 ruamel.yaml.clib-0.2.4 tomlkit-0.7.0 tqdm-4.50.2\n"
          ],
          "name": "stdout"
        },
        {
          "output_type": "display_data",
          "data": {
            "application/vnd.colab-display-data+json": {
              "pip_warning": {
                "packages": [
                  "google",
                  "pandas"
                ]
              }
            }
          },
          "metadata": {
            "tags": []
          }
        }
      ]
    },
    {
      "cell_type": "code",
      "metadata": {
        "id": "r2oyWXXd-RzD"
      },
      "source": [
        "# import os\n",
        "# # restarting runtime\n",
        "# os.kill(os.getpid(), 9)"
      ],
      "execution_count": null,
      "outputs": []
    },
    {
      "cell_type": "code",
      "metadata": {
        "id": "sTUwzLpaphnh"
      },
      "source": [
        "import basedosdados as bd\n",
        "import pandas as pd"
      ],
      "execution_count": null,
      "outputs": []
    },
    {
      "cell_type": "markdown",
      "metadata": {
        "id": "-OlQocKg-bJC"
      },
      "source": [
        "# Projeto final do módulo 4 - **Storytelling com Dados**\n",
        "\n",
        "O desafio foi apresentar uma história a partir da análise de um conjunto de dados escolhido pela equipe, dentre as opções propostas. Para executar o projeto as equipes deveriam usar Python com Jupyter Notebook, e Tableau. \n",
        "\n",
        "## Equipe 6 - Desmatamento na Amazônia Legal\n",
        "\n",
        "Nossa equipe escolheu o conjunto de dados PRODES - Desmatamento, do INPE. Usamos o Python para extrair os dados, através da biblioteca da [Base dos Dados](https://basedosdados.org/), e o Tableau para construir as visualizações. É possível acessar o painel e a história que fizemos no Tableau [aqui](https://public.tableau.com/app/profile/patryck.harley/viz/painel_16247736650040/Painel1). Para uma análise mais ampla também utilizamos os dados do PAM - Lavouras Temporárias, e do PPM - Rabanhos Efetivos. Ambos da Base dos Dados também, disponibilizados através da plataforma [Big Query](https://console.cloud.google.com/bigquery?p=basedosdados)."
      ]
    },
    {
      "cell_type": "markdown",
      "metadata": {
        "id": "0Q0Lis-5Zpmg"
      },
      "source": [
        "## Datasets load and overview"
      ]
    },
    {
      "cell_type": "markdown",
      "metadata": {
        "id": "2fBt27tdaaCC"
      },
      "source": [
        "### **Desmatamento PRODES**\n",
        "\n",
        "O projeto PRODES realiza o monitoramento por satélites do desmatamento por corte raso na Amazônia Legal e produz, desde 1988, as taxas anuais de desmatamento na região, que são usadas pelo governo brasileiro para o estabelecimento de políticas públicas. As taxas anuais são estimadas a partir dos incrementos de desmatamento identificados em cada imagem de satélite que cobre a Amazônia Legal. A primeira apresentação dos dados é realizada para dezembro de cada ano, na forma de estimativa. Os dados consolidados são apresentados no primeiro semestre do ano seguinte.\n",
        "\n",
        "O PRODES utiliza imagens de satélites da classe LANDSAT (20 a 30 metros de resolução espacial e taxa de revisita de 16 dias) numa combinação que busca minimizar o problema da cobertura de nuvens e garantir critérios de interoperabilidade. As imagens do satélite americano LANDSAT-5/TM foram, historicamente, as mais utilizadas pelo projeto, mas as imagens do sensor CCD a bordo do CBERS-2/2B, satélites do programa sino-brasileiro de sensoriamento remoto, foram bastante usadas. O PRODES também fez uso de imagens LISS-3 do satélite indiano IRS-1 e também das imagens do satélite inglês UK-DMC2. Atualmente faz uso massivo das imagens do LANDSAT 8/OLI, CBERS 4 e IRS-2. Independente do instrumento utilizado, a área mínima mapeada pelo PRODES é de 6,25 hectares.\n",
        "\n",
        "As estimativas do PRODES são consideradas confiáveis pelos cientistas nacionais e internacionais (Kintish, 2007). Esse sistema tem demonstrado ser de grande importância para ações e planejamento de políticas públicas da Amazônia. Resultados recentes, a partir de análises realizadas com especialistas independentes, indicam nível de precisão próximo a 95%.\n",
        "\n",
        "fonte: https://basedosdados.org/dataset/br-inpe-prodes"
      ]
    },
    {
      "cell_type": "markdown",
      "metadata": {
        "id": "w-92hg0Kc1nw"
      },
      "source": [
        "#### **Tabela:** desmatamento_municipios\n",
        "**Variáveis**\n",
        "- id_municipio:\t ID Município - IBGE 7 Dígitos\n",
        "\n",
        "- ano: Ano\t\n",
        "\n",
        "- area:\tÁrea (km2)\t\n",
        "\n",
        "- desmatado: Área Desmatada Total (km2)\t\n",
        "\n",
        "- incremento:\tIncremento em Área Desmatada (km2)\n",
        "\n",
        "- floresta: Área de Floresta (km2)\t\n",
        "\n",
        "- nuvem: Área Encoberta por Nuvens (km2)\n",
        "\n",
        "- nao_observado: Área Não-Observada (km2)\t\n",
        "\n",
        "- nao_floresta: Área de Não-Floresta (km2)\t\n",
        "\n",
        "- hidrografia: Área de Hidrografia (km2)"
      ]
    },
    {
      "cell_type": "code",
      "metadata": {
        "id": "XGsNNrH3YatA",
        "colab": {
          "base_uri": "https://localhost:8080/"
        },
        "outputId": "16519638-f9f1-4e6d-aa47-c3f675c30c8d"
      },
      "source": [
        "# # Para carregar o dado direto no pandas\n",
        "# prodes = bd.read_table(dataset_id='br_inpe_prodes', \n",
        "#             table_id='desmatamento_municipios',\n",
        "#             billing_project_id='lively-oxide-290601')"
      ],
      "execution_count": null,
      "outputs": [
        {
          "output_type": "stream",
          "text": [
            "Please visit this URL to authorize this application: https://accounts.google.com/o/oauth2/auth?response_type=code&client_id=262006177488-3425ks60hkk80fssi9vpohv88g6q1iqd.apps.googleusercontent.com&redirect_uri=urn%3Aietf%3Awg%3Aoauth%3A2.0%3Aoob&scope=https%3A%2F%2Fwww.googleapis.com%2Fauth%2Fcloud-platform&state=blyYQyHN8rq8OR3ReXEf8lm3cLmClz&prompt=consent&access_type=offline\n",
            "Enter the authorization code: 4/1AX4XfWhZ6zU1Qh-9NkVXqQYRQorvqyJpOr8VW88j7H4Bkt6DlYfazP_hhwU\n"
          ],
          "name": "stdout"
        },
        {
          "output_type": "stream",
          "text": [
            "Downloading: 100%|██████████| 15200/15200 [00:01<00:00, 9801.87rows/s]\n"
          ],
          "name": "stderr"
        }
      ]
    },
    {
      "cell_type": "code",
      "metadata": {
        "id": "VTgcvhY7ZJ_j"
      },
      "source": [
        "# prodes.to_csv('prodes_desmatamento.csv', index=False) "
      ],
      "execution_count": null,
      "outputs": []
    },
    {
      "cell_type": "code",
      "metadata": {
        "id": "POjnS-jXqPYE"
      },
      "source": [
        "prodes = pd.read_csv('/content/drive/MyDrive/Resilia/prodes_desmatamento.csv')"
      ],
      "execution_count": null,
      "outputs": []
    },
    {
      "cell_type": "code",
      "metadata": {
        "id": "dj570PbYZf2S",
        "colab": {
          "base_uri": "https://localhost:8080/",
          "height": 202
        },
        "outputId": "5b445de3-4854-49a0-cb4a-6ab99b07c0e8"
      },
      "source": [
        "prodes.head()"
      ],
      "execution_count": null,
      "outputs": [
        {
          "output_type": "execute_result",
          "data": {
            "text/html": [
              "<div>\n",
              "<style scoped>\n",
              "    .dataframe tbody tr th:only-of-type {\n",
              "        vertical-align: middle;\n",
              "    }\n",
              "\n",
              "    .dataframe tbody tr th {\n",
              "        vertical-align: top;\n",
              "    }\n",
              "\n",
              "    .dataframe thead th {\n",
              "        text-align: right;\n",
              "    }\n",
              "</style>\n",
              "<table border=\"1\" class=\"dataframe\">\n",
              "  <thead>\n",
              "    <tr style=\"text-align: right;\">\n",
              "      <th></th>\n",
              "      <th>id_municipio</th>\n",
              "      <th>ano</th>\n",
              "      <th>area</th>\n",
              "      <th>desmatado</th>\n",
              "      <th>incremento</th>\n",
              "      <th>floresta</th>\n",
              "      <th>nuvem</th>\n",
              "      <th>nao_observado</th>\n",
              "      <th>nao_floresta</th>\n",
              "      <th>hidrografia</th>\n",
              "    </tr>\n",
              "  </thead>\n",
              "  <tbody>\n",
              "    <tr>\n",
              "      <th>0</th>\n",
              "      <td>1100015</td>\n",
              "      <td>2000</td>\n",
              "      <td>7137.000000000</td>\n",
              "      <td>1761.100000000</td>\n",
              "      <td>None</td>\n",
              "      <td>3639.600000000</td>\n",
              "      <td>0E-9</td>\n",
              "      <td>6.100000000</td>\n",
              "      <td>1708.000000000</td>\n",
              "      <td>22.200000000</td>\n",
              "    </tr>\n",
              "    <tr>\n",
              "      <th>1</th>\n",
              "      <td>1100015</td>\n",
              "      <td>2001</td>\n",
              "      <td>7137.000000000</td>\n",
              "      <td>1834.200000000</td>\n",
              "      <td>73.100000000</td>\n",
              "      <td>3566.500000000</td>\n",
              "      <td>0E-9</td>\n",
              "      <td>6.100000000</td>\n",
              "      <td>1708.000000000</td>\n",
              "      <td>22.200000000</td>\n",
              "    </tr>\n",
              "    <tr>\n",
              "      <th>2</th>\n",
              "      <td>1100015</td>\n",
              "      <td>2002</td>\n",
              "      <td>7137.000000000</td>\n",
              "      <td>1948.900000000</td>\n",
              "      <td>114.700000000</td>\n",
              "      <td>3451.800000000</td>\n",
              "      <td>0E-9</td>\n",
              "      <td>6.100000000</td>\n",
              "      <td>1708.000000000</td>\n",
              "      <td>22.200000000</td>\n",
              "    </tr>\n",
              "    <tr>\n",
              "      <th>3</th>\n",
              "      <td>1100015</td>\n",
              "      <td>2003</td>\n",
              "      <td>7137.000000000</td>\n",
              "      <td>2014.900000000</td>\n",
              "      <td>66.000000000</td>\n",
              "      <td>3385.800000000</td>\n",
              "      <td>0E-9</td>\n",
              "      <td>6.100000000</td>\n",
              "      <td>1708.000000000</td>\n",
              "      <td>22.200000000</td>\n",
              "    </tr>\n",
              "    <tr>\n",
              "      <th>4</th>\n",
              "      <td>1100015</td>\n",
              "      <td>2004</td>\n",
              "      <td>7137.000000000</td>\n",
              "      <td>2092.000000000</td>\n",
              "      <td>77.100000000</td>\n",
              "      <td>3308.700000000</td>\n",
              "      <td>0E-9</td>\n",
              "      <td>6.100000000</td>\n",
              "      <td>1708.000000000</td>\n",
              "      <td>22.200000000</td>\n",
              "    </tr>\n",
              "  </tbody>\n",
              "</table>\n",
              "</div>"
            ],
            "text/plain": [
              "   id_municipio   ano  ...    nao_floresta   hidrografia\n",
              "0       1100015  2000  ...  1708.000000000  22.200000000\n",
              "1       1100015  2001  ...  1708.000000000  22.200000000\n",
              "2       1100015  2002  ...  1708.000000000  22.200000000\n",
              "3       1100015  2003  ...  1708.000000000  22.200000000\n",
              "4       1100015  2004  ...  1708.000000000  22.200000000\n",
              "\n",
              "[5 rows x 10 columns]"
            ]
          },
          "metadata": {
            "tags": []
          },
          "execution_count": 4
        }
      ]
    },
    {
      "cell_type": "code",
      "metadata": {
        "id": "cTV2lu8AZgER",
        "colab": {
          "base_uri": "https://localhost:8080/"
        },
        "outputId": "46000a02-54d5-4529-c68f-370321ddf401"
      },
      "source": [
        "prodes.shape"
      ],
      "execution_count": null,
      "outputs": [
        {
          "output_type": "execute_result",
          "data": {
            "text/plain": [
              "(15200, 10)"
            ]
          },
          "metadata": {
            "tags": []
          },
          "execution_count": 5
        }
      ]
    },
    {
      "cell_type": "code",
      "metadata": {
        "id": "qfVDGdHNZf-J",
        "colab": {
          "base_uri": "https://localhost:8080/"
        },
        "outputId": "2ade0b66-bd02-4c08-b6bc-5759a37acb43"
      },
      "source": [
        "prodes.info()"
      ],
      "execution_count": null,
      "outputs": [
        {
          "output_type": "stream",
          "text": [
            "<class 'pandas.core.frame.DataFrame'>\n",
            "RangeIndex: 15200 entries, 0 to 15199\n",
            "Data columns (total 10 columns):\n",
            " #   Column         Non-Null Count  Dtype \n",
            "---  ------         --------------  ----- \n",
            " 0   id_municipio   15200 non-null  int64 \n",
            " 1   ano            15200 non-null  int64 \n",
            " 2   area           15200 non-null  object\n",
            " 3   desmatado      15200 non-null  object\n",
            " 4   incremento     14440 non-null  object\n",
            " 5   floresta       15200 non-null  object\n",
            " 6   nuvem          15200 non-null  object\n",
            " 7   nao_observado  15200 non-null  object\n",
            " 8   nao_floresta   15200 non-null  object\n",
            " 9   hidrografia    15200 non-null  object\n",
            "dtypes: int64(2), object(8)\n",
            "memory usage: 1.2+ MB\n"
          ],
          "name": "stdout"
        }
      ]
    },
    {
      "cell_type": "markdown",
      "metadata": {
        "id": "R0xtdSqvsuha"
      },
      "source": [
        "Como vimos acima, algumas colunas foram interpretadas de forma errada. Por isso, vamos converter as colunas que contém números decimais, mas foram lidas como objeto."
      ]
    },
    {
      "cell_type": "code",
      "metadata": {
        "id": "HFBi4gOLqzwK"
      },
      "source": [
        "for col in [\n",
        "          'area', 'desmatado', 'incremento', \n",
        "          'floresta', 'nuvem', 'nao_observado',\n",
        "          'nao_floresta', 'hidrografia'\n",
        "          ]: \n",
        "              prodes[col] = prodes[col].astype(float) # convertendo para float"
      ],
      "execution_count": null,
      "outputs": []
    },
    {
      "cell_type": "code",
      "metadata": {
        "colab": {
          "base_uri": "https://localhost:8080/"
        },
        "id": "S51l7nxyuBkB",
        "outputId": "9f738d37-7be5-446d-c7a2-6c775202c41d"
      },
      "source": [
        "prodes.info()"
      ],
      "execution_count": null,
      "outputs": [
        {
          "output_type": "stream",
          "text": [
            "<class 'pandas.core.frame.DataFrame'>\n",
            "RangeIndex: 15200 entries, 0 to 15199\n",
            "Data columns (total 10 columns):\n",
            " #   Column         Non-Null Count  Dtype  \n",
            "---  ------         --------------  -----  \n",
            " 0   id_municipio   15200 non-null  int64  \n",
            " 1   ano            15200 non-null  int64  \n",
            " 2   area           15200 non-null  float64\n",
            " 3   desmatado      15200 non-null  float64\n",
            " 4   incremento     14440 non-null  float64\n",
            " 5   floresta       15200 non-null  float64\n",
            " 6   nuvem          15200 non-null  float64\n",
            " 7   nao_observado  15200 non-null  float64\n",
            " 8   nao_floresta   15200 non-null  float64\n",
            " 9   hidrografia    15200 non-null  float64\n",
            "dtypes: float64(8), int64(2)\n",
            "memory usage: 1.2 MB\n"
          ],
          "name": "stdout"
        }
      ]
    },
    {
      "cell_type": "markdown",
      "metadata": {
        "id": "ujfLanCmuNpX"
      },
      "source": [
        "Quanto aos valores nulos, a tabela só apresenta valores nulos na coluna de incremento. Vamos entender o porque:"
      ]
    },
    {
      "cell_type": "code",
      "metadata": {
        "colab": {
          "base_uri": "https://localhost:8080/",
          "height": 415
        },
        "id": "br2GubzfuIAq",
        "outputId": "c6770549-1d68-403e-bcbd-30274f1df1be"
      },
      "source": [
        "nulos = prodes[\n",
        "               prodes['incremento'].isnull()\n",
        "               ] # filtrando apenas as linhas onde 'incremento' é nulo\n",
        "nulos"
      ],
      "execution_count": null,
      "outputs": [
        {
          "output_type": "execute_result",
          "data": {
            "text/html": [
              "<div>\n",
              "<style scoped>\n",
              "    .dataframe tbody tr th:only-of-type {\n",
              "        vertical-align: middle;\n",
              "    }\n",
              "\n",
              "    .dataframe tbody tr th {\n",
              "        vertical-align: top;\n",
              "    }\n",
              "\n",
              "    .dataframe thead th {\n",
              "        text-align: right;\n",
              "    }\n",
              "</style>\n",
              "<table border=\"1\" class=\"dataframe\">\n",
              "  <thead>\n",
              "    <tr style=\"text-align: right;\">\n",
              "      <th></th>\n",
              "      <th>id_municipio</th>\n",
              "      <th>ano</th>\n",
              "      <th>area</th>\n",
              "      <th>desmatado</th>\n",
              "      <th>incremento</th>\n",
              "      <th>floresta</th>\n",
              "      <th>nuvem</th>\n",
              "      <th>nao_observado</th>\n",
              "      <th>nao_floresta</th>\n",
              "      <th>hidrografia</th>\n",
              "    </tr>\n",
              "  </thead>\n",
              "  <tbody>\n",
              "    <tr>\n",
              "      <th>0</th>\n",
              "      <td>1100015</td>\n",
              "      <td>2000</td>\n",
              "      <td>7137.0</td>\n",
              "      <td>1761.1</td>\n",
              "      <td>NaN</td>\n",
              "      <td>3639.6</td>\n",
              "      <td>0.0</td>\n",
              "      <td>6.1</td>\n",
              "      <td>1708.0</td>\n",
              "      <td>22.2</td>\n",
              "    </tr>\n",
              "    <tr>\n",
              "      <th>20</th>\n",
              "      <td>1100023</td>\n",
              "      <td>2000</td>\n",
              "      <td>4481.0</td>\n",
              "      <td>2661.2</td>\n",
              "      <td>NaN</td>\n",
              "      <td>1730.0</td>\n",
              "      <td>0.0</td>\n",
              "      <td>0.0</td>\n",
              "      <td>89.6</td>\n",
              "      <td>0.2</td>\n",
              "    </tr>\n",
              "    <tr>\n",
              "      <th>40</th>\n",
              "      <td>1100031</td>\n",
              "      <td>2000</td>\n",
              "      <td>1322.0</td>\n",
              "      <td>851.2</td>\n",
              "      <td>NaN</td>\n",
              "      <td>455.2</td>\n",
              "      <td>0.0</td>\n",
              "      <td>0.6</td>\n",
              "      <td>11.3</td>\n",
              "      <td>3.7</td>\n",
              "    </tr>\n",
              "    <tr>\n",
              "      <th>60</th>\n",
              "      <td>1100049</td>\n",
              "      <td>2000</td>\n",
              "      <td>3821.0</td>\n",
              "      <td>2311.3</td>\n",
              "      <td>NaN</td>\n",
              "      <td>1477.7</td>\n",
              "      <td>0.0</td>\n",
              "      <td>0.0</td>\n",
              "      <td>26.2</td>\n",
              "      <td>5.8</td>\n",
              "    </tr>\n",
              "    <tr>\n",
              "      <th>80</th>\n",
              "      <td>1100056</td>\n",
              "      <td>2000</td>\n",
              "      <td>2805.0</td>\n",
              "      <td>731.3</td>\n",
              "      <td>NaN</td>\n",
              "      <td>829.3</td>\n",
              "      <td>0.0</td>\n",
              "      <td>0.0</td>\n",
              "      <td>1244.4</td>\n",
              "      <td>0.0</td>\n",
              "    </tr>\n",
              "    <tr>\n",
              "      <th>...</th>\n",
              "      <td>...</td>\n",
              "      <td>...</td>\n",
              "      <td>...</td>\n",
              "      <td>...</td>\n",
              "      <td>...</td>\n",
              "      <td>...</td>\n",
              "      <td>...</td>\n",
              "      <td>...</td>\n",
              "      <td>...</td>\n",
              "      <td>...</td>\n",
              "    </tr>\n",
              "    <tr>\n",
              "      <th>15100</th>\n",
              "      <td>5108600</td>\n",
              "      <td>2000</td>\n",
              "      <td>7443.0</td>\n",
              "      <td>3039.4</td>\n",
              "      <td>NaN</td>\n",
              "      <td>4206.9</td>\n",
              "      <td>0.0</td>\n",
              "      <td>0.0</td>\n",
              "      <td>186.8</td>\n",
              "      <td>9.9</td>\n",
              "    </tr>\n",
              "    <tr>\n",
              "      <th>15120</th>\n",
              "      <td>5108808</td>\n",
              "      <td>2000</td>\n",
              "      <td>1087.0</td>\n",
              "      <td>854.7</td>\n",
              "      <td>NaN</td>\n",
              "      <td>231.7</td>\n",
              "      <td>0.0</td>\n",
              "      <td>0.0</td>\n",
              "      <td>0.0</td>\n",
              "      <td>0.6</td>\n",
              "    </tr>\n",
              "    <tr>\n",
              "      <th>15140</th>\n",
              "      <td>5108857</td>\n",
              "      <td>2000</td>\n",
              "      <td>1942.0</td>\n",
              "      <td>759.5</td>\n",
              "      <td>NaN</td>\n",
              "      <td>618.5</td>\n",
              "      <td>0.0</td>\n",
              "      <td>0.2</td>\n",
              "      <td>563.8</td>\n",
              "      <td>0.0</td>\n",
              "    </tr>\n",
              "    <tr>\n",
              "      <th>15160</th>\n",
              "      <td>5108907</td>\n",
              "      <td>2000</td>\n",
              "      <td>11528.0</td>\n",
              "      <td>1677.7</td>\n",
              "      <td>NaN</td>\n",
              "      <td>9155.7</td>\n",
              "      <td>0.0</td>\n",
              "      <td>0.9</td>\n",
              "      <td>685.5</td>\n",
              "      <td>8.2</td>\n",
              "    </tr>\n",
              "    <tr>\n",
              "      <th>15180</th>\n",
              "      <td>5108956</td>\n",
              "      <td>2000</td>\n",
              "      <td>5277.0</td>\n",
              "      <td>1602.7</td>\n",
              "      <td>NaN</td>\n",
              "      <td>3654.7</td>\n",
              "      <td>0.0</td>\n",
              "      <td>0.0</td>\n",
              "      <td>12.9</td>\n",
              "      <td>6.7</td>\n",
              "    </tr>\n",
              "  </tbody>\n",
              "</table>\n",
              "<p>760 rows × 10 columns</p>\n",
              "</div>"
            ],
            "text/plain": [
              "       id_municipio   ano     area  ...  nao_observado  nao_floresta  hidrografia\n",
              "0           1100015  2000   7137.0  ...            6.1        1708.0         22.2\n",
              "20          1100023  2000   4481.0  ...            0.0          89.6          0.2\n",
              "40          1100031  2000   1322.0  ...            0.6          11.3          3.7\n",
              "60          1100049  2000   3821.0  ...            0.0          26.2          5.8\n",
              "80          1100056  2000   2805.0  ...            0.0        1244.4          0.0\n",
              "...             ...   ...      ...  ...            ...           ...          ...\n",
              "15100       5108600  2000   7443.0  ...            0.0         186.8          9.9\n",
              "15120       5108808  2000   1087.0  ...            0.0           0.0          0.6\n",
              "15140       5108857  2000   1942.0  ...            0.2         563.8          0.0\n",
              "15160       5108907  2000  11528.0  ...            0.9         685.5          8.2\n",
              "15180       5108956  2000   5277.0  ...            0.0          12.9          6.7\n",
              "\n",
              "[760 rows x 10 columns]"
            ]
          },
          "metadata": {
            "tags": []
          },
          "execution_count": 9
        }
      ]
    },
    {
      "cell_type": "code",
      "metadata": {
        "colab": {
          "base_uri": "https://localhost:8080/"
        },
        "id": "qnnSamPHuH4y",
        "outputId": "33d14147-f70e-4d95-e0ca-1813f923ecab"
      },
      "source": [
        "nulos['ano'].unique() # vendo quais anos contém 'incremento' nulo"
      ],
      "execution_count": null,
      "outputs": [
        {
          "output_type": "execute_result",
          "data": {
            "text/plain": [
              "array([2000])"
            ]
          },
          "metadata": {
            "tags": []
          },
          "execution_count": 10
        }
      ]
    },
    {
      "cell_type": "markdown",
      "metadata": {
        "id": "_LVLLerfv11v"
      },
      "source": [
        "Assim, entendemos que incremento está nulo somente no primeiro ano representado na tabela, porque nesse ano não é possível calcular o valor de incremento de desmatamento em relação ao ano anterior. Então vamos observar quais anos estão presentes na tabela:"
      ]
    },
    {
      "cell_type": "code",
      "metadata": {
        "colab": {
          "base_uri": "https://localhost:8080/"
        },
        "id": "I-z5egZ1xEvW",
        "outputId": "6088c9a9-292b-4ac2-ceab-6023b025599e"
      },
      "source": [
        "# contando a quantidade de vezes que cada ano aparece na tabela e ordenando por pelo index(ano)\n",
        "prodes['ano'].value_counts().sort_index() "
      ],
      "execution_count": null,
      "outputs": [
        {
          "output_type": "execute_result",
          "data": {
            "text/plain": [
              "2000    760\n",
              "2001    760\n",
              "2002    760\n",
              "2003    760\n",
              "2004    760\n",
              "2005    760\n",
              "2006    760\n",
              "2007    760\n",
              "2008    760\n",
              "2009    760\n",
              "2010    760\n",
              "2011    760\n",
              "2012    760\n",
              "2013    760\n",
              "2014    760\n",
              "2015    760\n",
              "2016    760\n",
              "2017    760\n",
              "2018    760\n",
              "2019    760\n",
              "Name: ano, dtype: int64"
            ]
          },
          "metadata": {
            "tags": []
          },
          "execution_count": 11
        }
      ]
    },
    {
      "cell_type": "code",
      "metadata": {
        "colab": {
          "base_uri": "https://localhost:8080/"
        },
        "id": "iNBHcvi9yLkO",
        "outputId": "3e4cde71-1ed1-409b-95a6-e7fe79eb0bd4"
      },
      "source": [
        "# contando a quantidade de municipios \n",
        "len(prodes['id_municipio'].unique())"
      ],
      "execution_count": null,
      "outputs": [
        {
          "output_type": "execute_result",
          "data": {
            "text/plain": [
              "760"
            ]
          },
          "metadata": {
            "tags": []
          },
          "execution_count": 12
        }
      ]
    },
    {
      "cell_type": "markdown",
      "metadata": {
        "id": "5Xh-CHFVxKAM"
      },
      "source": [
        "A tabela abrange os dados do ano de 2000 até 2019, e os dados estão bem consistentes, com informação sobre os 760 municipios em todos os anos. Mas só com o código de municipio do IBGE não temos muito poder de análise, por isso vamos adicionar os nomes dos municípios e seus estados:"
      ]
    },
    {
      "cell_type": "code",
      "metadata": {
        "colab": {
          "base_uri": "https://localhost:8080/",
          "height": 202
        },
        "id": "9zFqQpOHz8Nh",
        "outputId": "0707d7b0-5ad5-43e2-ea79-6d0796f3a483"
      },
      "source": [
        "# carregando um conjunto de dados de municipios brasileiros, com nome, estado e código\n",
        "municipios = pd.read_csv('https://raw.githubusercontent.com/augusto-herrmann/transparencia-dados-abertos-brasil/master/data/auxiliary/geographic/municipality.csv')\n",
        "municipios.head()"
      ],
      "execution_count": null,
      "outputs": [
        {
          "output_type": "execute_result",
          "data": {
            "text/html": [
              "<div>\n",
              "<style scoped>\n",
              "    .dataframe tbody tr th:only-of-type {\n",
              "        vertical-align: middle;\n",
              "    }\n",
              "\n",
              "    .dataframe tbody tr th {\n",
              "        vertical-align: top;\n",
              "    }\n",
              "\n",
              "    .dataframe thead th {\n",
              "        text-align: right;\n",
              "    }\n",
              "</style>\n",
              "<table border=\"1\" class=\"dataframe\">\n",
              "  <thead>\n",
              "    <tr style=\"text-align: right;\">\n",
              "      <th></th>\n",
              "      <th>code</th>\n",
              "      <th>name</th>\n",
              "      <th>uf</th>\n",
              "      <th>dbpedia</th>\n",
              "      <th>dbpedia_pt</th>\n",
              "      <th>wikidata</th>\n",
              "    </tr>\n",
              "  </thead>\n",
              "  <tbody>\n",
              "    <tr>\n",
              "      <th>0</th>\n",
              "      <td>1100015</td>\n",
              "      <td>Alta Floresta D'Oeste</td>\n",
              "      <td>RO</td>\n",
              "      <td>NaN</td>\n",
              "      <td>NaN</td>\n",
              "      <td>NaN</td>\n",
              "    </tr>\n",
              "    <tr>\n",
              "      <th>1</th>\n",
              "      <td>1100023</td>\n",
              "      <td>Ariquemes</td>\n",
              "      <td>RO</td>\n",
              "      <td>http://dbpedia.org/resource/Ariquemes</td>\n",
              "      <td>http://pt.dbpedia.org/resource/Ariquemes</td>\n",
              "      <td>http://www.wikidata.org/entity/Q1646975</td>\n",
              "    </tr>\n",
              "    <tr>\n",
              "      <th>2</th>\n",
              "      <td>1100031</td>\n",
              "      <td>Cabixi</td>\n",
              "      <td>RO</td>\n",
              "      <td>NaN</td>\n",
              "      <td>http://pt.dbpedia.org/resource/Cabixi</td>\n",
              "      <td>http://www.wikidata.org/entity/Q940433</td>\n",
              "    </tr>\n",
              "    <tr>\n",
              "      <th>3</th>\n",
              "      <td>1100049</td>\n",
              "      <td>Cacoal</td>\n",
              "      <td>RO</td>\n",
              "      <td>NaN</td>\n",
              "      <td>http://pt.dbpedia.org/resource/Cacoal</td>\n",
              "      <td>http://www.wikidata.org/entity/Q1761637</td>\n",
              "    </tr>\n",
              "    <tr>\n",
              "      <th>4</th>\n",
              "      <td>1100056</td>\n",
              "      <td>Cerejeiras</td>\n",
              "      <td>RO</td>\n",
              "      <td>NaN</td>\n",
              "      <td>http://pt.dbpedia.org/resource/Cerejeiras</td>\n",
              "      <td>http://www.wikidata.org/entity/Q1803210</td>\n",
              "    </tr>\n",
              "  </tbody>\n",
              "</table>\n",
              "</div>"
            ],
            "text/plain": [
              "      code  ...                                 wikidata\n",
              "0  1100015  ...                                      NaN\n",
              "1  1100023  ...  http://www.wikidata.org/entity/Q1646975\n",
              "2  1100031  ...   http://www.wikidata.org/entity/Q940433\n",
              "3  1100049  ...  http://www.wikidata.org/entity/Q1761637\n",
              "4  1100056  ...  http://www.wikidata.org/entity/Q1803210\n",
              "\n",
              "[5 rows x 6 columns]"
            ]
          },
          "metadata": {
            "tags": []
          },
          "execution_count": 13
        }
      ]
    },
    {
      "cell_type": "code",
      "metadata": {
        "id": "nepgJaQYz8Ku"
      },
      "source": [
        "# juntando a tabela que contém nomes e estados dos municipios com a tabela\n",
        "# de desmatamento, através das colunas de código de município. \n",
        "prodes = prodes.merge(\n",
        "    municipios[['name', 'uf', 'code']], \n",
        "    how='left', \n",
        "    left_on='id_municipio', \n",
        "    right_on='code'\n",
        "    )"
      ],
      "execution_count": null,
      "outputs": []
    },
    {
      "cell_type": "code",
      "metadata": {
        "colab": {
          "base_uri": "https://localhost:8080/",
          "height": 202
        },
        "id": "6s-O6Xb_1WzA",
        "outputId": "2ce11190-65b6-4d58-a96f-c2b09d8eb5c4"
      },
      "source": [
        "prodes.head()"
      ],
      "execution_count": null,
      "outputs": [
        {
          "output_type": "execute_result",
          "data": {
            "text/html": [
              "<div>\n",
              "<style scoped>\n",
              "    .dataframe tbody tr th:only-of-type {\n",
              "        vertical-align: middle;\n",
              "    }\n",
              "\n",
              "    .dataframe tbody tr th {\n",
              "        vertical-align: top;\n",
              "    }\n",
              "\n",
              "    .dataframe thead th {\n",
              "        text-align: right;\n",
              "    }\n",
              "</style>\n",
              "<table border=\"1\" class=\"dataframe\">\n",
              "  <thead>\n",
              "    <tr style=\"text-align: right;\">\n",
              "      <th></th>\n",
              "      <th>id_municipio</th>\n",
              "      <th>ano</th>\n",
              "      <th>area</th>\n",
              "      <th>desmatado</th>\n",
              "      <th>incremento</th>\n",
              "      <th>floresta</th>\n",
              "      <th>nuvem</th>\n",
              "      <th>nao_observado</th>\n",
              "      <th>nao_floresta</th>\n",
              "      <th>hidrografia</th>\n",
              "      <th>name</th>\n",
              "      <th>uf</th>\n",
              "      <th>code</th>\n",
              "    </tr>\n",
              "  </thead>\n",
              "  <tbody>\n",
              "    <tr>\n",
              "      <th>0</th>\n",
              "      <td>1100015</td>\n",
              "      <td>2000</td>\n",
              "      <td>7137.0</td>\n",
              "      <td>1761.1</td>\n",
              "      <td>NaN</td>\n",
              "      <td>3639.6</td>\n",
              "      <td>0.0</td>\n",
              "      <td>6.1</td>\n",
              "      <td>1708.0</td>\n",
              "      <td>22.2</td>\n",
              "      <td>Alta Floresta D'Oeste</td>\n",
              "      <td>RO</td>\n",
              "      <td>1100015</td>\n",
              "    </tr>\n",
              "    <tr>\n",
              "      <th>1</th>\n",
              "      <td>1100015</td>\n",
              "      <td>2001</td>\n",
              "      <td>7137.0</td>\n",
              "      <td>1834.2</td>\n",
              "      <td>73.1</td>\n",
              "      <td>3566.5</td>\n",
              "      <td>0.0</td>\n",
              "      <td>6.1</td>\n",
              "      <td>1708.0</td>\n",
              "      <td>22.2</td>\n",
              "      <td>Alta Floresta D'Oeste</td>\n",
              "      <td>RO</td>\n",
              "      <td>1100015</td>\n",
              "    </tr>\n",
              "    <tr>\n",
              "      <th>2</th>\n",
              "      <td>1100015</td>\n",
              "      <td>2002</td>\n",
              "      <td>7137.0</td>\n",
              "      <td>1948.9</td>\n",
              "      <td>114.7</td>\n",
              "      <td>3451.8</td>\n",
              "      <td>0.0</td>\n",
              "      <td>6.1</td>\n",
              "      <td>1708.0</td>\n",
              "      <td>22.2</td>\n",
              "      <td>Alta Floresta D'Oeste</td>\n",
              "      <td>RO</td>\n",
              "      <td>1100015</td>\n",
              "    </tr>\n",
              "    <tr>\n",
              "      <th>3</th>\n",
              "      <td>1100015</td>\n",
              "      <td>2003</td>\n",
              "      <td>7137.0</td>\n",
              "      <td>2014.9</td>\n",
              "      <td>66.0</td>\n",
              "      <td>3385.8</td>\n",
              "      <td>0.0</td>\n",
              "      <td>6.1</td>\n",
              "      <td>1708.0</td>\n",
              "      <td>22.2</td>\n",
              "      <td>Alta Floresta D'Oeste</td>\n",
              "      <td>RO</td>\n",
              "      <td>1100015</td>\n",
              "    </tr>\n",
              "    <tr>\n",
              "      <th>4</th>\n",
              "      <td>1100015</td>\n",
              "      <td>2004</td>\n",
              "      <td>7137.0</td>\n",
              "      <td>2092.0</td>\n",
              "      <td>77.1</td>\n",
              "      <td>3308.7</td>\n",
              "      <td>0.0</td>\n",
              "      <td>6.1</td>\n",
              "      <td>1708.0</td>\n",
              "      <td>22.2</td>\n",
              "      <td>Alta Floresta D'Oeste</td>\n",
              "      <td>RO</td>\n",
              "      <td>1100015</td>\n",
              "    </tr>\n",
              "  </tbody>\n",
              "</table>\n",
              "</div>"
            ],
            "text/plain": [
              "   id_municipio   ano    area  ...                   name  uf     code\n",
              "0       1100015  2000  7137.0  ...  Alta Floresta D'Oeste  RO  1100015\n",
              "1       1100015  2001  7137.0  ...  Alta Floresta D'Oeste  RO  1100015\n",
              "2       1100015  2002  7137.0  ...  Alta Floresta D'Oeste  RO  1100015\n",
              "3       1100015  2003  7137.0  ...  Alta Floresta D'Oeste  RO  1100015\n",
              "4       1100015  2004  7137.0  ...  Alta Floresta D'Oeste  RO  1100015\n",
              "\n",
              "[5 rows x 13 columns]"
            ]
          },
          "metadata": {
            "tags": []
          },
          "execution_count": 15
        }
      ]
    },
    {
      "cell_type": "markdown",
      "metadata": {
        "id": "Y8k3yTqh2Vq-"
      },
      "source": [
        "A coluna code foi usada somente pra relacionar as tabelas, podemos excluí-la."
      ]
    },
    {
      "cell_type": "code",
      "metadata": {
        "id": "YkHFaHEQ2Ozl"
      },
      "source": [
        "prodes.drop('code', axis=1, inplace=True)"
      ],
      "execution_count": null,
      "outputs": []
    },
    {
      "cell_type": "markdown",
      "metadata": {
        "id": "IQW720wU1LjO"
      },
      "source": [
        "Feito o merge entre as tabelas, vamos conferir as novas colunas:"
      ]
    },
    {
      "cell_type": "code",
      "metadata": {
        "colab": {
          "base_uri": "https://localhost:8080/"
        },
        "id": "iRLq2vYTE0eU",
        "outputId": "21718a43-6f2b-4180-f7e6-2d0f502f2a81"
      },
      "source": [
        "prodes.info()"
      ],
      "execution_count": null,
      "outputs": [
        {
          "output_type": "stream",
          "text": [
            "<class 'pandas.core.frame.DataFrame'>\n",
            "Int64Index: 15200 entries, 0 to 15199\n",
            "Data columns (total 12 columns):\n",
            " #   Column         Non-Null Count  Dtype  \n",
            "---  ------         --------------  -----  \n",
            " 0   id_municipio   15200 non-null  int64  \n",
            " 1   ano            15200 non-null  int64  \n",
            " 2   area           15200 non-null  float64\n",
            " 3   desmatado      15200 non-null  float64\n",
            " 4   incremento     14440 non-null  float64\n",
            " 5   floresta       15200 non-null  float64\n",
            " 6   nuvem          15200 non-null  float64\n",
            " 7   nao_observado  15200 non-null  float64\n",
            " 8   nao_floresta   15200 non-null  float64\n",
            " 9   hidrografia    15200 non-null  float64\n",
            " 10  name           15200 non-null  object \n",
            " 11  uf             15200 non-null  object \n",
            "dtypes: float64(8), int64(2), object(2)\n",
            "memory usage: 1.5+ MB\n"
          ],
          "name": "stdout"
        }
      ]
    },
    {
      "cell_type": "markdown",
      "metadata": {
        "id": "kR8LaBmrE3Kq"
      },
      "source": [
        "Tudo certo, nenhum município ficou sem nome ou estado. Mas vamos renomear as novas colunas para nome mais explicativos:"
      ]
    },
    {
      "cell_type": "code",
      "metadata": {
        "id": "PGckCNM0FGG0"
      },
      "source": [
        "prodes.rename(\n",
        "    columns={'name': 'municipio', 'uf': 'estado'}, \n",
        "    inplace=True\n",
        "    )"
      ],
      "execution_count": null,
      "outputs": []
    },
    {
      "cell_type": "markdown",
      "metadata": {
        "id": "pvUqNX5Nxc-N"
      },
      "source": [
        "Com todas as colunas devidamente formatadas, podemos criar alguns campos calculados. Vamos criar campos normalizados, que representam: a proporção de desmatado em relação à área total de onde um dia foi uma floresta(desmatado / desmatado + floresta * 100); e a proporção de incremento em relação à floresta remanescente(incremento / incremento + floresta * 100) em cada ano; e a proporção do municipio coberto por nuvens em cada ano(nuvens / area * 100)."
      ]
    },
    {
      "cell_type": "code",
      "metadata": {
        "id": "2chB-sO2ywvn"
      },
      "source": [
        "prodes['prop_desmatado'] = (\n",
        "    prodes['desmatado'] / (\n",
        "        prodes['desmatado'] + prodes['floresta']\n",
        "        )\n",
        "    ) * 100\n",
        "\n",
        "prodes['prop_incremento'] = (\n",
        "    prodes['incremento'] / (\n",
        "        prodes['incremento'] + prodes['floresta']\n",
        "        )\n",
        "    ) * 100\n",
        "\n",
        "prodes['prop_nuvem'] = (\n",
        "    prodes['nuvem'] / prodes['area']\n",
        "    ) * 100"
      ],
      "execution_count": null,
      "outputs": []
    },
    {
      "cell_type": "code",
      "metadata": {
        "id": "PcpnYd0fzaXf"
      },
      "source": [
        "prodes.to_csv('/content/drive/MyDrive/Resilia/prodes_desmatamento_com_prop.csv', index=False)"
      ],
      "execution_count": null,
      "outputs": []
    },
    {
      "cell_type": "markdown",
      "metadata": {
        "id": "rVJct1jJa-9Z"
      },
      "source": [
        "### **Pesquisa Agrícola Municipal (PAM)**\n",
        "\n",
        "A pesquisa Produção Agrícola Municipal - PAM investiga, anualmente, os principais produtos das lavouras temporárias e permanentes do País, que se caracterizam não só pela grande importância econômica que possuem na pauta de exportações, como também por sua relevância social, componentes que são da cesta básica do brasileiro.\n",
        "\n",
        "Com o lançamento deste informativo, o IBGE apresenta comentários gerais sobre os principais resultados da PAM relativos a 2018, contemplando informações sobre área plantada e/ou área destinada à colheita, área colhida, quantidade produzida, rendimento médio obtido e valor da produção dos produtos investigados, por Grandes Regiões, Unidades da Federação e Municípios. A análise enfoca o desempenho das lavouras de maior relevância, tanto produtiva como comercial, em que se destacam a distribuição espacial dos principais produtos agrícolas no território e sua participação relativa no valor total das produções regional e nacional, as colheitas obtidas nos principais municípios produtores, bem como os fatores de maior influência nos resultados e na produtividade dessas lavouras, entre outros aspectos.\n",
        "\n",
        "fonte: https://basedosdados.org/dataset/br-ibge-pam"
      ]
    },
    {
      "cell_type": "markdown",
      "metadata": {
        "id": "gsiU7R82eDmQ"
      },
      "source": [
        "#### **Tabela:**  municipio_lavouras_temporarias\n",
        "\n",
        "**Variáveis**\n",
        "- ano: Ano\t\n",
        "\n",
        "- sigla_uf: Sigla da Unidade da Federação\n",
        "\n",
        "- id_municipio: ID Município - IBGE 7 Dígitos\t\n",
        "\n",
        "- produto: Produto agrícola\t\n",
        "\n",
        "- area_plantada: Área utilizada para plantio, em hectares\n",
        "\n",
        "- area_colhida: Área colhida, em hectares\t\n",
        "\n",
        "- quantidade_produzida: Quantidade total produzida, em toneladas\t\n",
        "\n",
        "- rendimento_medio: Rendimento médio do produto, em kg por hectare\t\n",
        "\n",
        "- valor_producao: Valor nominal total da produção, em reais\n",
        "\n",
        "- prop_area_plantada: Proporção da área plantada em relação ao total da área plantada em lavouras temporárias do município\n",
        "\n",
        "- prop_area_colhida: Proporção da área colhida em relação ao total da área colhida em lavouras temporárias do município\t\n",
        "\n",
        "- prop_valor_producao: Proporção do valor de produção em relação ao valor total de produção das lavouras temporárias do município"
      ]
    },
    {
      "cell_type": "code",
      "metadata": {
        "id": "AxX3ETm64tnz"
      },
      "source": [
        "# # Para carregar o dado direto no pandas\n",
        "# pam = bd.read_table(dataset_id='br_ibge_pam', \n",
        "#             table_id='municipio_lavouras_temporarias',\n",
        "#             billing_project_id='lively-oxide-290601')"
      ],
      "execution_count": null,
      "outputs": []
    },
    {
      "cell_type": "code",
      "metadata": {
        "id": "yq0UI_hu54rl"
      },
      "source": [
        "# pam[pam['ano'] >= 2000].to_csv('/content/drive/MyDrive/Resilia/pam_lavouras_temporarias.csv', index=False) "
      ],
      "execution_count": null,
      "outputs": []
    },
    {
      "cell_type": "code",
      "metadata": {
        "id": "o1wX765wqfzU"
      },
      "source": [
        "pam = pd.read_csv('/content/drive/MyDrive/Resilia/pam_lavouras_temporarias.csv')"
      ],
      "execution_count": null,
      "outputs": []
    },
    {
      "cell_type": "code",
      "metadata": {
        "colab": {
          "base_uri": "https://localhost:8080/"
        },
        "id": "QY9BRsgB5TvN",
        "outputId": "d53dac32-bb7c-4281-cf96-29ecd60b2e31"
      },
      "source": [
        "pam.shape"
      ],
      "execution_count": null,
      "outputs": [
        {
          "output_type": "execute_result",
          "data": {
            "text/plain": [
              "(3671580, 12)"
            ]
          },
          "metadata": {
            "tags": []
          },
          "execution_count": 20
        }
      ]
    },
    {
      "cell_type": "code",
      "metadata": {
        "colab": {
          "base_uri": "https://localhost:8080/"
        },
        "id": "Gdp2e6nX5WrV",
        "outputId": "cd9d3ca5-bfec-42e5-c36d-4ad0516ec336"
      },
      "source": [
        "pam.info()"
      ],
      "execution_count": null,
      "outputs": [
        {
          "output_type": "stream",
          "text": [
            "<class 'pandas.core.frame.DataFrame'>\n",
            "RangeIndex: 3671580 entries, 0 to 3671579\n",
            "Data columns (total 12 columns):\n",
            " #   Column                Dtype  \n",
            "---  ------                -----  \n",
            " 0   ano                   int64  \n",
            " 1   sigla_uf              object \n",
            " 2   id_municipio          int64  \n",
            " 3   produto               object \n",
            " 4   area_plantada         float64\n",
            " 5   area_colhida          float64\n",
            " 6   quantidade_produzida  float64\n",
            " 7   rendimento_medio      float64\n",
            " 8   valor_producao        float64\n",
            " 9   prop_area_plantada    float64\n",
            " 10  prop_area_colhida     float64\n",
            " 11  prop_valor_producao   float64\n",
            "dtypes: float64(8), int64(2), object(2)\n",
            "memory usage: 336.1+ MB\n"
          ],
          "name": "stdout"
        }
      ]
    },
    {
      "cell_type": "code",
      "metadata": {
        "id": "8eWegrhbTsCU"
      },
      "source": [
        "pam['id_municipio'] = pam['id_municipio'].astype(int)"
      ],
      "execution_count": null,
      "outputs": []
    },
    {
      "cell_type": "code",
      "metadata": {
        "colab": {
          "base_uri": "https://localhost:8080/",
          "height": 322
        },
        "id": "Is3VZPIk6DrV",
        "outputId": "18c0507c-5203-4577-90de-c3198f219867"
      },
      "source": [
        "pam.head()"
      ],
      "execution_count": null,
      "outputs": [
        {
          "output_type": "execute_result",
          "data": {
            "text/html": [
              "<div>\n",
              "<style scoped>\n",
              "    .dataframe tbody tr th:only-of-type {\n",
              "        vertical-align: middle;\n",
              "    }\n",
              "\n",
              "    .dataframe tbody tr th {\n",
              "        vertical-align: top;\n",
              "    }\n",
              "\n",
              "    .dataframe thead th {\n",
              "        text-align: right;\n",
              "    }\n",
              "</style>\n",
              "<table border=\"1\" class=\"dataframe\">\n",
              "  <thead>\n",
              "    <tr style=\"text-align: right;\">\n",
              "      <th></th>\n",
              "      <th>ano</th>\n",
              "      <th>sigla_uf</th>\n",
              "      <th>id_municipio</th>\n",
              "      <th>produto</th>\n",
              "      <th>area_plantada</th>\n",
              "      <th>area_colhida</th>\n",
              "      <th>quantidade_produzida</th>\n",
              "      <th>rendimento_medio</th>\n",
              "      <th>valor_producao</th>\n",
              "      <th>prop_area_plantada</th>\n",
              "      <th>prop_area_colhida</th>\n",
              "      <th>prop_valor_producao</th>\n",
              "    </tr>\n",
              "  </thead>\n",
              "  <tbody>\n",
              "    <tr>\n",
              "      <th>0</th>\n",
              "      <td>2001</td>\n",
              "      <td>AC</td>\n",
              "      <td>1200013</td>\n",
              "      <td>Abacaxi</td>\n",
              "      <td>2.0</td>\n",
              "      <td>2.0</td>\n",
              "      <td>36.0</td>\n",
              "      <td>18000.0</td>\n",
              "      <td>16.0</td>\n",
              "      <td>0.04</td>\n",
              "      <td>0.04</td>\n",
              "      <td>0.41</td>\n",
              "    </tr>\n",
              "    <tr>\n",
              "      <th>1</th>\n",
              "      <td>2001</td>\n",
              "      <td>AC</td>\n",
              "      <td>1200013</td>\n",
              "      <td>Alfafa fenada</td>\n",
              "      <td>NaN</td>\n",
              "      <td>NaN</td>\n",
              "      <td>NaN</td>\n",
              "      <td>NaN</td>\n",
              "      <td>NaN</td>\n",
              "      <td>NaN</td>\n",
              "      <td>NaN</td>\n",
              "      <td>NaN</td>\n",
              "    </tr>\n",
              "    <tr>\n",
              "      <th>2</th>\n",
              "      <td>2001</td>\n",
              "      <td>AC</td>\n",
              "      <td>1200013</td>\n",
              "      <td>Algodão herbáceo (em caroço)</td>\n",
              "      <td>88.0</td>\n",
              "      <td>88.0</td>\n",
              "      <td>53.0</td>\n",
              "      <td>602.0</td>\n",
              "      <td>34.0</td>\n",
              "      <td>1.68</td>\n",
              "      <td>1.68</td>\n",
              "      <td>0.88</td>\n",
              "    </tr>\n",
              "    <tr>\n",
              "      <th>3</th>\n",
              "      <td>2001</td>\n",
              "      <td>AC</td>\n",
              "      <td>1200013</td>\n",
              "      <td>Alho</td>\n",
              "      <td>NaN</td>\n",
              "      <td>NaN</td>\n",
              "      <td>NaN</td>\n",
              "      <td>NaN</td>\n",
              "      <td>NaN</td>\n",
              "      <td>NaN</td>\n",
              "      <td>NaN</td>\n",
              "      <td>NaN</td>\n",
              "    </tr>\n",
              "    <tr>\n",
              "      <th>4</th>\n",
              "      <td>2001</td>\n",
              "      <td>AC</td>\n",
              "      <td>1200013</td>\n",
              "      <td>Amendoim (em casca)</td>\n",
              "      <td>NaN</td>\n",
              "      <td>NaN</td>\n",
              "      <td>NaN</td>\n",
              "      <td>NaN</td>\n",
              "      <td>NaN</td>\n",
              "      <td>NaN</td>\n",
              "      <td>NaN</td>\n",
              "      <td>NaN</td>\n",
              "    </tr>\n",
              "  </tbody>\n",
              "</table>\n",
              "</div>"
            ],
            "text/plain": [
              "    ano sigla_uf  ...  prop_area_colhida prop_valor_producao\n",
              "0  2001       AC  ...               0.04                0.41\n",
              "1  2001       AC  ...                NaN                 NaN\n",
              "2  2001       AC  ...               1.68                0.88\n",
              "3  2001       AC  ...                NaN                 NaN\n",
              "4  2001       AC  ...                NaN                 NaN\n",
              "\n",
              "[5 rows x 12 columns]"
            ]
          },
          "metadata": {
            "tags": []
          },
          "execution_count": 23
        }
      ]
    },
    {
      "cell_type": "markdown",
      "metadata": {
        "id": "mYxLdrcb9j-0"
      },
      "source": [
        "### Pesquisa Pecuária Municipal (PPM)\n",
        "A Pesquisa da Pecuária Municipal - PPM teve início no Ministério da Agricultura em 1945. Suas informações eram levantadas pela Rede de Coleta do IBGE, cabendo ao Ministério a elaboração dos questionários, a apuração, a crítica e a divulgação dos resultados. Com a publicação do Decreto n. 73.482, de 17.01.1974, o Instituto tornou-se responsável por todas as fases da pesquisa a partir daquela data, bem como pelos demais inquéritos estatísticos relacionados ao setor agropecuário. As estatísticas relativas aos anos de 1971 e 1972, porém, não estão disponíveis por não terem sido divulgadas pelo Ministério. Até 1980, as variáveis investigadas eram, basicamente, a quantidade de animais existentes em 31.12, a produção dos principais produtos primários da pecuária e o preço médio anual unitário. Em 1981 e 1989, ocorreram modificações no questionário da pesquisa visando o aprimoramento de seu escopo. Em 2013, além de outros aprimoramentos realizados no questionário, passou a ser investigada, também, a produção da aquicultura, fruto de acordo entre o IBGE e o Ministério da Pesca e Aquicultura. A produção de peixes, camarões e moluscos, alevinos de peixes, larvas de camarão, sementes de moluscos, bem como o valor da produção de outros animais (rã, jacaré etc.) foram, assim, introduzidos no âmbito da PPM.\n",
        "\n",
        "A pesquisa fornece informações sobre os efetivos da pecuária existentes no município na data de referência do levantamento, bem como a produção de origem animal, e o valor da produção durante o ano de referência. Os efetivos incluem bovinos, suínos, matrizes de suínos, galináceos, galinhas, codornas, equinos, bubalinos, caprinos e ovinos. A produção de origem animal, por sua vez, contempla a produção de leite, ovos de galinha, ovos de codorna, mel, lã bruta e casulos do bicho-da-seda; as quantidades de vacas ordenhadas e ovinos tosquiados; e a aquicultura, que engloba as produções da piscicultura, carcinocultura e malacocultura.\n",
        "\n",
        "fonte: https://basedosdados.org/dataset/br-ibge-ppm"
      ]
    },
    {
      "cell_type": "markdown",
      "metadata": {
        "id": "VdtwpqQ88f89"
      },
      "source": [
        "#### Tabela: rebanhos_efetivos\n",
        "**Variáveis**\n",
        "- id_municipio: ID Município IBGE - 7 Dígitos\n",
        "- ano: Ano\n",
        "- tipo_rebanho: Tipo de Rebanho\n",
        "- quantidade_animais: Quantidade de Animais"
      ]
    },
    {
      "cell_type": "code",
      "metadata": {
        "colab": {
          "base_uri": "https://localhost:8080/"
        },
        "id": "c19KQxTY4f8z",
        "outputId": "8c8eac17-2d93-4546-abd5-2f7d0128ffc1"
      },
      "source": [
        "# ppm = bd.read_table(dataset_id='br_ibge_ppm', \n",
        "#             table_id='efetivo_rebanhos',\n",
        "#             billing_project_id='lively-oxide-290601')"
      ],
      "execution_count": null,
      "outputs": [
        {
          "output_type": "stream",
          "text": [
            "Please visit this URL to authorize this application: https://accounts.google.com/o/oauth2/auth?response_type=code&client_id=262006177488-3425ks60hkk80fssi9vpohv88g6q1iqd.apps.googleusercontent.com&redirect_uri=urn%3Aietf%3Awg%3Aoauth%3A2.0%3Aoob&scope=https%3A%2F%2Fwww.googleapis.com%2Fauth%2Fcloud-platform&state=Va4LSVXQQWOOpc6gPUzDyRHHWwbSXL&prompt=consent&access_type=offline\n",
            "Enter the authorization code: 4/1AX4XfWghNVn5BKkPVx0wOpFbwGIoPfGvpvo1RAYA6N6bv6u38BaLKwINLD4\n"
          ],
          "name": "stdout"
        },
        {
          "output_type": "stream",
          "text": [
            "Downloading: 100%|██████████| 2560820/2560820 [00:02<00:00, 989981.12rows/s]\n"
          ],
          "name": "stderr"
        }
      ]
    },
    {
      "cell_type": "code",
      "metadata": {
        "colab": {
          "base_uri": "https://localhost:8080/"
        },
        "id": "11JqRzGn5c2T",
        "outputId": "31477347-4eed-4c8c-bcb3-23de468f7db2"
      },
      "source": [
        "# ppm['ano'].unique()"
      ],
      "execution_count": null,
      "outputs": [
        {
          "output_type": "execute_result",
          "data": {
            "text/plain": [
              "array([1974, 1975, 1976, 1977, 1978, 1979, 1980, 1981, 1982, 1983, 1984,\n",
              "       1985, 1986, 1987, 1988, 1989, 1990, 1991, 1992, 1993, 1994, 1995,\n",
              "       1996, 1997, 1998, 1999, 2000, 2001, 2002, 2003, 2004, 2005, 2006,\n",
              "       2007, 2008, 2009, 2010, 2011, 2012, 2013, 2014, 2015, 2016, 2017,\n",
              "       2018, 2019])"
            ]
          },
          "metadata": {
            "tags": []
          },
          "execution_count": 4
        }
      ]
    },
    {
      "cell_type": "code",
      "metadata": {
        "id": "mfAZwLZt5v1Z"
      },
      "source": [
        "# ppm[ppm['ano'] >= 2000].to_csv('/content/drive/MyDrive/Resilia/ppm_efetivo_rebanhos.csv', index=False)"
      ],
      "execution_count": null,
      "outputs": []
    },
    {
      "cell_type": "code",
      "metadata": {
        "id": "NQIIHJ8p8NpM"
      },
      "source": [
        "ppm = pd.read_csv('/content/drive/MyDrive/Resilia/ppm_efetivo_rebanhos.csv')"
      ],
      "execution_count": null,
      "outputs": []
    },
    {
      "cell_type": "code",
      "metadata": {
        "id": "Goq7Lnwr5_Yc",
        "colab": {
          "base_uri": "https://localhost:8080/",
          "height": 202
        },
        "outputId": "927923ba-667d-4291-dc9c-164a4d02a290"
      },
      "source": [
        "ppm.head()"
      ],
      "execution_count": null,
      "outputs": [
        {
          "output_type": "execute_result",
          "data": {
            "text/html": [
              "<div>\n",
              "<style scoped>\n",
              "    .dataframe tbody tr th:only-of-type {\n",
              "        vertical-align: middle;\n",
              "    }\n",
              "\n",
              "    .dataframe tbody tr th {\n",
              "        vertical-align: top;\n",
              "    }\n",
              "\n",
              "    .dataframe thead th {\n",
              "        text-align: right;\n",
              "    }\n",
              "</style>\n",
              "<table border=\"1\" class=\"dataframe\">\n",
              "  <thead>\n",
              "    <tr style=\"text-align: right;\">\n",
              "      <th></th>\n",
              "      <th>id_municipio</th>\n",
              "      <th>ano</th>\n",
              "      <th>tipo_rebanho</th>\n",
              "      <th>quantidade_animais</th>\n",
              "    </tr>\n",
              "  </thead>\n",
              "  <tbody>\n",
              "    <tr>\n",
              "      <th>0</th>\n",
              "      <td>1100015</td>\n",
              "      <td>2000</td>\n",
              "      <td>Ovino</td>\n",
              "      <td>2311.0</td>\n",
              "    </tr>\n",
              "    <tr>\n",
              "      <th>1</th>\n",
              "      <td>1100023</td>\n",
              "      <td>2000</td>\n",
              "      <td>Ovino</td>\n",
              "      <td>1928.0</td>\n",
              "    </tr>\n",
              "    <tr>\n",
              "      <th>2</th>\n",
              "      <td>1100031</td>\n",
              "      <td>2000</td>\n",
              "      <td>Ovino</td>\n",
              "      <td>2039.0</td>\n",
              "    </tr>\n",
              "    <tr>\n",
              "      <th>3</th>\n",
              "      <td>1100049</td>\n",
              "      <td>2000</td>\n",
              "      <td>Ovino</td>\n",
              "      <td>3887.0</td>\n",
              "    </tr>\n",
              "    <tr>\n",
              "      <th>4</th>\n",
              "      <td>1100056</td>\n",
              "      <td>2000</td>\n",
              "      <td>Ovino</td>\n",
              "      <td>827.0</td>\n",
              "    </tr>\n",
              "  </tbody>\n",
              "</table>\n",
              "</div>"
            ],
            "text/plain": [
              "   id_municipio   ano tipo_rebanho  quantidade_animais\n",
              "0       1100015  2000        Ovino              2311.0\n",
              "1       1100023  2000        Ovino              1928.0\n",
              "2       1100031  2000        Ovino              2039.0\n",
              "3       1100049  2000        Ovino              3887.0\n",
              "4       1100056  2000        Ovino               827.0"
            ]
          },
          "metadata": {
            "tags": []
          },
          "execution_count": 25
        }
      ]
    },
    {
      "cell_type": "code",
      "metadata": {
        "colab": {
          "base_uri": "https://localhost:8080/"
        },
        "id": "Pb2ORsUgxMId",
        "outputId": "92d0e303-e983-4e48-d73b-719c50dac415"
      },
      "source": [
        "ppm.info()"
      ],
      "execution_count": null,
      "outputs": [
        {
          "output_type": "stream",
          "text": [
            "<class 'pandas.core.frame.DataFrame'>\n",
            "Int64Index: 1113400 entries, 0 to 1113399\n",
            "Data columns (total 5 columns):\n",
            " #   Column                Non-Null Count    Dtype  \n",
            "---  ------                --------------    -----  \n",
            " 0   id_municipio          1113400 non-null  int64  \n",
            " 1   ano                   1113400 non-null  int64  \n",
            " 2   tipo_rebanho          1113400 non-null  object \n",
            " 3   quantidade_animais_x  858302 non-null   float64\n",
            " 4   quantidade_animais_y  1105340 non-null  float64\n",
            "dtypes: float64(2), int64(2), object(1)\n",
            "memory usage: 51.0+ MB\n"
          ],
          "name": "stdout"
        }
      ]
    },
    {
      "cell_type": "markdown",
      "metadata": {
        "id": "5SHYiJzn8ZRd"
      },
      "source": [
        "Esse dataset não tem a proporção de cada tipo de rebanho, assim como no dataset de lavouras temporárias. Por isso vamos criar campos calculados com a quantidade cada tipo de animal normalizada para a porcentagem de cada animal nos municípios. "
      ]
    },
    {
      "cell_type": "code",
      "metadata": {
        "id": "sywGY0Q16Au2"
      },
      "source": [
        "quantidade_porcen = (\n",
        "    ppm\n",
        "    .groupby(['ano', 'id_municipio', 'tipo_rebanho'])\n",
        "    .sum()\n",
        "    .groupby(level=[0,1])\n",
        "    .apply(lambda x: (x / x.sum()) * 100)\n",
        ")"
      ],
      "execution_count": null,
      "outputs": []
    },
    {
      "cell_type": "code",
      "metadata": {
        "colab": {
          "base_uri": "https://localhost:8080/",
          "height": 387
        },
        "id": "wB34n-sIpUTc",
        "outputId": "d268e829-e643-4e81-a2f8-73ac50d432c0"
      },
      "source": [
        "quantidade_porcen.head(10)"
      ],
      "execution_count": null,
      "outputs": [
        {
          "output_type": "execute_result",
          "data": {
            "text/html": [
              "<div>\n",
              "<style scoped>\n",
              "    .dataframe tbody tr th:only-of-type {\n",
              "        vertical-align: middle;\n",
              "    }\n",
              "\n",
              "    .dataframe tbody tr th {\n",
              "        vertical-align: top;\n",
              "    }\n",
              "\n",
              "    .dataframe thead th {\n",
              "        text-align: right;\n",
              "    }\n",
              "</style>\n",
              "<table border=\"1\" class=\"dataframe\">\n",
              "  <thead>\n",
              "    <tr style=\"text-align: right;\">\n",
              "      <th></th>\n",
              "      <th></th>\n",
              "      <th></th>\n",
              "      <th>quantidade_animais</th>\n",
              "    </tr>\n",
              "    <tr>\n",
              "      <th>ano</th>\n",
              "      <th>id_municipio</th>\n",
              "      <th>tipo_rebanho</th>\n",
              "      <th></th>\n",
              "    </tr>\n",
              "  </thead>\n",
              "  <tbody>\n",
              "    <tr>\n",
              "      <th rowspan=\"10\" valign=\"top\">2000</th>\n",
              "      <th rowspan=\"10\" valign=\"top\">1100015</th>\n",
              "      <th>Bovino</th>\n",
              "      <td>38.340451</td>\n",
              "    </tr>\n",
              "    <tr>\n",
              "      <th>Bubalino</th>\n",
              "      <td>0.041204</td>\n",
              "    </tr>\n",
              "    <tr>\n",
              "      <th>Caprino</th>\n",
              "      <td>0.161215</td>\n",
              "    </tr>\n",
              "    <tr>\n",
              "      <th>Codornas</th>\n",
              "      <td>0.000000</td>\n",
              "    </tr>\n",
              "    <tr>\n",
              "      <th>Equino</th>\n",
              "      <td>0.833075</td>\n",
              "    </tr>\n",
              "    <tr>\n",
              "      <th>Galináceos - galinhas</th>\n",
              "      <td>17.305558</td>\n",
              "    </tr>\n",
              "    <tr>\n",
              "      <th>Galináceos - total</th>\n",
              "      <td>38.319449</td>\n",
              "    </tr>\n",
              "    <tr>\n",
              "      <th>Ovino</th>\n",
              "      <td>0.462242</td>\n",
              "    </tr>\n",
              "    <tr>\n",
              "      <th>Suíno - matrizes de suínos</th>\n",
              "      <td>0.000000</td>\n",
              "    </tr>\n",
              "    <tr>\n",
              "      <th>Suíno - total</th>\n",
              "      <td>4.536808</td>\n",
              "    </tr>\n",
              "  </tbody>\n",
              "</table>\n",
              "</div>"
            ],
            "text/plain": [
              "                                              quantidade_animais\n",
              "ano  id_municipio tipo_rebanho                                  \n",
              "2000 1100015      Bovino                               38.340451\n",
              "                  Bubalino                              0.041204\n",
              "                  Caprino                               0.161215\n",
              "                  Codornas                              0.000000\n",
              "                  Equino                                0.833075\n",
              "                  Galináceos - galinhas                17.305558\n",
              "                  Galináceos - total                   38.319449\n",
              "                  Ovino                                 0.462242\n",
              "                  Suíno - matrizes de suínos            0.000000\n",
              "                  Suíno - total                         4.536808"
            ]
          },
          "metadata": {
            "tags": []
          },
          "execution_count": 36
        }
      ]
    },
    {
      "cell_type": "markdown",
      "metadata": {
        "id": "vHn_Y6rn85vW"
      },
      "source": [
        "Feita a agregação para calcular a proporção de cada tipo de rebanhos, vamos juntar esses valores com o dataset base."
      ]
    },
    {
      "cell_type": "code",
      "metadata": {
        "id": "7qqlnoV-syI9"
      },
      "source": [
        "ppm = ppm.merge(quantidade_porcen, on=['ano',  'id_municipio', 'tipo_rebanho'])"
      ],
      "execution_count": null,
      "outputs": []
    },
    {
      "cell_type": "code",
      "metadata": {
        "colab": {
          "base_uri": "https://localhost:8080/",
          "height": 356
        },
        "id": "rS_yGr5lwHte",
        "outputId": "0ebf4190-38ec-498c-d6c8-b7599c53a2fe"
      },
      "source": [
        "ppm.head(10)"
      ],
      "execution_count": null,
      "outputs": [
        {
          "output_type": "execute_result",
          "data": {
            "text/html": [
              "<div>\n",
              "<style scoped>\n",
              "    .dataframe tbody tr th:only-of-type {\n",
              "        vertical-align: middle;\n",
              "    }\n",
              "\n",
              "    .dataframe tbody tr th {\n",
              "        vertical-align: top;\n",
              "    }\n",
              "\n",
              "    .dataframe thead th {\n",
              "        text-align: right;\n",
              "    }\n",
              "</style>\n",
              "<table border=\"1\" class=\"dataframe\">\n",
              "  <thead>\n",
              "    <tr style=\"text-align: right;\">\n",
              "      <th></th>\n",
              "      <th>id_municipio</th>\n",
              "      <th>ano</th>\n",
              "      <th>tipo_rebanho</th>\n",
              "      <th>quantidade_animais_x</th>\n",
              "      <th>quantidade_animais_y</th>\n",
              "    </tr>\n",
              "  </thead>\n",
              "  <tbody>\n",
              "    <tr>\n",
              "      <th>0</th>\n",
              "      <td>1100015</td>\n",
              "      <td>2000</td>\n",
              "      <td>Ovino</td>\n",
              "      <td>2311.0</td>\n",
              "      <td>0.462242</td>\n",
              "    </tr>\n",
              "    <tr>\n",
              "      <th>1</th>\n",
              "      <td>1100023</td>\n",
              "      <td>2000</td>\n",
              "      <td>Ovino</td>\n",
              "      <td>1928.0</td>\n",
              "      <td>0.410477</td>\n",
              "    </tr>\n",
              "    <tr>\n",
              "      <th>2</th>\n",
              "      <td>1100031</td>\n",
              "      <td>2000</td>\n",
              "      <td>Ovino</td>\n",
              "      <td>2039.0</td>\n",
              "      <td>1.088419</td>\n",
              "    </tr>\n",
              "    <tr>\n",
              "      <th>3</th>\n",
              "      <td>1100049</td>\n",
              "      <td>2000</td>\n",
              "      <td>Ovino</td>\n",
              "      <td>3887.0</td>\n",
              "      <td>0.377999</td>\n",
              "    </tr>\n",
              "    <tr>\n",
              "      <th>4</th>\n",
              "      <td>1100056</td>\n",
              "      <td>2000</td>\n",
              "      <td>Ovino</td>\n",
              "      <td>827.0</td>\n",
              "      <td>0.434659</td>\n",
              "    </tr>\n",
              "    <tr>\n",
              "      <th>5</th>\n",
              "      <td>1100064</td>\n",
              "      <td>2000</td>\n",
              "      <td>Ovino</td>\n",
              "      <td>4320.0</td>\n",
              "      <td>1.691676</td>\n",
              "    </tr>\n",
              "    <tr>\n",
              "      <th>6</th>\n",
              "      <td>1100072</td>\n",
              "      <td>2000</td>\n",
              "      <td>Ovino</td>\n",
              "      <td>725.0</td>\n",
              "      <td>0.218046</td>\n",
              "    </tr>\n",
              "    <tr>\n",
              "      <th>7</th>\n",
              "      <td>1100080</td>\n",
              "      <td>2000</td>\n",
              "      <td>Ovino</td>\n",
              "      <td>506.0</td>\n",
              "      <td>1.504162</td>\n",
              "    </tr>\n",
              "    <tr>\n",
              "      <th>8</th>\n",
              "      <td>1100098</td>\n",
              "      <td>2000</td>\n",
              "      <td>Ovino</td>\n",
              "      <td>1507.0</td>\n",
              "      <td>0.330751</td>\n",
              "    </tr>\n",
              "    <tr>\n",
              "      <th>9</th>\n",
              "      <td>1100106</td>\n",
              "      <td>2000</td>\n",
              "      <td>Ovino</td>\n",
              "      <td>2271.0</td>\n",
              "      <td>1.128217</td>\n",
              "    </tr>\n",
              "  </tbody>\n",
              "</table>\n",
              "</div>"
            ],
            "text/plain": [
              "   id_municipio   ano tipo_rebanho  quantidade_animais_x  quantidade_animais_y\n",
              "0       1100015  2000        Ovino                2311.0              0.462242\n",
              "1       1100023  2000        Ovino                1928.0              0.410477\n",
              "2       1100031  2000        Ovino                2039.0              1.088419\n",
              "3       1100049  2000        Ovino                3887.0              0.377999\n",
              "4       1100056  2000        Ovino                 827.0              0.434659\n",
              "5       1100064  2000        Ovino                4320.0              1.691676\n",
              "6       1100072  2000        Ovino                 725.0              0.218046\n",
              "7       1100080  2000        Ovino                 506.0              1.504162\n",
              "8       1100098  2000        Ovino                1507.0              0.330751\n",
              "9       1100106  2000        Ovino                2271.0              1.128217"
            ]
          },
          "metadata": {
            "tags": []
          },
          "execution_count": 41
        }
      ]
    },
    {
      "cell_type": "markdown",
      "metadata": {
        "id": "NOR_X5Vi9Gml"
      },
      "source": [
        "Agora vamos renomear as colunas para que sejam explícitas."
      ]
    },
    {
      "cell_type": "code",
      "metadata": {
        "colab": {
          "base_uri": "https://localhost:8080/",
          "height": 415
        },
        "id": "DiDIu7MbwecF",
        "outputId": "349a7e67-27e7-40b4-9edf-65bded904525"
      },
      "source": [
        "ppm.rename(columns={'quantidade_animais_x': 'quantidade_animais', 'quantidade_animais_y':  'prop_quantidade_animais'})"
      ],
      "execution_count": null,
      "outputs": [
        {
          "output_type": "execute_result",
          "data": {
            "text/html": [
              "<div>\n",
              "<style scoped>\n",
              "    .dataframe tbody tr th:only-of-type {\n",
              "        vertical-align: middle;\n",
              "    }\n",
              "\n",
              "    .dataframe tbody tr th {\n",
              "        vertical-align: top;\n",
              "    }\n",
              "\n",
              "    .dataframe thead th {\n",
              "        text-align: right;\n",
              "    }\n",
              "</style>\n",
              "<table border=\"1\" class=\"dataframe\">\n",
              "  <thead>\n",
              "    <tr style=\"text-align: right;\">\n",
              "      <th></th>\n",
              "      <th>id_municipio</th>\n",
              "      <th>ano</th>\n",
              "      <th>tipo_rebanho</th>\n",
              "      <th>quantidade_animais</th>\n",
              "      <th>prop_quantidade_animais</th>\n",
              "    </tr>\n",
              "  </thead>\n",
              "  <tbody>\n",
              "    <tr>\n",
              "      <th>0</th>\n",
              "      <td>1100015</td>\n",
              "      <td>2000</td>\n",
              "      <td>Ovino</td>\n",
              "      <td>2311.0</td>\n",
              "      <td>0.462242</td>\n",
              "    </tr>\n",
              "    <tr>\n",
              "      <th>1</th>\n",
              "      <td>1100023</td>\n",
              "      <td>2000</td>\n",
              "      <td>Ovino</td>\n",
              "      <td>1928.0</td>\n",
              "      <td>0.410477</td>\n",
              "    </tr>\n",
              "    <tr>\n",
              "      <th>2</th>\n",
              "      <td>1100031</td>\n",
              "      <td>2000</td>\n",
              "      <td>Ovino</td>\n",
              "      <td>2039.0</td>\n",
              "      <td>1.088419</td>\n",
              "    </tr>\n",
              "    <tr>\n",
              "      <th>3</th>\n",
              "      <td>1100049</td>\n",
              "      <td>2000</td>\n",
              "      <td>Ovino</td>\n",
              "      <td>3887.0</td>\n",
              "      <td>0.377999</td>\n",
              "    </tr>\n",
              "    <tr>\n",
              "      <th>4</th>\n",
              "      <td>1100056</td>\n",
              "      <td>2000</td>\n",
              "      <td>Ovino</td>\n",
              "      <td>827.0</td>\n",
              "      <td>0.434659</td>\n",
              "    </tr>\n",
              "    <tr>\n",
              "      <th>...</th>\n",
              "      <td>...</td>\n",
              "      <td>...</td>\n",
              "      <td>...</td>\n",
              "      <td>...</td>\n",
              "      <td>...</td>\n",
              "    </tr>\n",
              "    <tr>\n",
              "      <th>1113395</th>\n",
              "      <td>5222005</td>\n",
              "      <td>2019</td>\n",
              "      <td>Suíno - matrizes de suínos</td>\n",
              "      <td>550.0</td>\n",
              "      <td>0.484389</td>\n",
              "    </tr>\n",
              "    <tr>\n",
              "      <th>1113396</th>\n",
              "      <td>5222054</td>\n",
              "      <td>2019</td>\n",
              "      <td>Suíno - matrizes de suínos</td>\n",
              "      <td>400.0</td>\n",
              "      <td>1.093643</td>\n",
              "    </tr>\n",
              "    <tr>\n",
              "      <th>1113397</th>\n",
              "      <td>5222203</td>\n",
              "      <td>2019</td>\n",
              "      <td>Suíno - matrizes de suínos</td>\n",
              "      <td>19.0</td>\n",
              "      <td>0.033792</td>\n",
              "    </tr>\n",
              "    <tr>\n",
              "      <th>1113398</th>\n",
              "      <td>5222302</td>\n",
              "      <td>2019</td>\n",
              "      <td>Suíno - matrizes de suínos</td>\n",
              "      <td>110.0</td>\n",
              "      <td>0.079395</td>\n",
              "    </tr>\n",
              "    <tr>\n",
              "      <th>1113399</th>\n",
              "      <td>5300108</td>\n",
              "      <td>2019</td>\n",
              "      <td>Suíno - matrizes de suínos</td>\n",
              "      <td>14004.0</td>\n",
              "      <td>0.164568</td>\n",
              "    </tr>\n",
              "  </tbody>\n",
              "</table>\n",
              "<p>1113400 rows × 5 columns</p>\n",
              "</div>"
            ],
            "text/plain": [
              "         id_municipio   ano  ... quantidade_animais  prop_quantidade_animais\n",
              "0             1100015  2000  ...             2311.0                 0.462242\n",
              "1             1100023  2000  ...             1928.0                 0.410477\n",
              "2             1100031  2000  ...             2039.0                 1.088419\n",
              "3             1100049  2000  ...             3887.0                 0.377999\n",
              "4             1100056  2000  ...              827.0                 0.434659\n",
              "...               ...   ...  ...                ...                      ...\n",
              "1113395       5222005  2019  ...              550.0                 0.484389\n",
              "1113396       5222054  2019  ...              400.0                 1.093643\n",
              "1113397       5222203  2019  ...               19.0                 0.033792\n",
              "1113398       5222302  2019  ...              110.0                 0.079395\n",
              "1113399       5300108  2019  ...            14004.0                 0.164568\n",
              "\n",
              "[1113400 rows x 5 columns]"
            ]
          },
          "metadata": {
            "tags": []
          },
          "execution_count": 42
        }
      ]
    },
    {
      "cell_type": "markdown",
      "metadata": {
        "id": "QqizZIKO9Q3d"
      },
      "source": [
        "Pronto, agora podemos exportar os csv para carregar no tableau."
      ]
    },
    {
      "cell_type": "code",
      "metadata": {
        "id": "zf3AMy5bw2rG"
      },
      "source": [
        "ppm.to_csv('/content/drive/MyDrive/Resilia/ppm_rebanhos_efetivos_com_prop.csv', index=False)"
      ],
      "execution_count": null,
      "outputs": []
    },
    {
      "cell_type": "code",
      "metadata": {
        "id": "LRgbaTQ36zxY"
      },
      "source": [
        ""
      ],
      "execution_count": null,
      "outputs": []
    }
  ]
}